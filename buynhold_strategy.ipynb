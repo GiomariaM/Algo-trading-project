{
 "cells": [
  {
   "cell_type": "code",
   "execution_count": null,
   "metadata": {},
   "outputs": [],
   "source": [
    "import yfinance as yf\n",
    "import statsmodels \n",
    "import statsmodels.api as sm\n",
    "import numpy as np\n",
    "import matplotlib.pyplot as plt\n",
    "from scipy import stats\n",
    "import seaborn as sns\n",
    "import pandas as pd\n",
    "import nasdaqdatalink as ndl\n",
    "plt.style.use('seaborn-darkgrid')"
   ]
  },
  {
   "cell_type": "code",
   "execution_count": 3,
   "metadata": {},
   "outputs": [
    {
     "name": "stdout",
     "output_type": "stream",
     "text": [
      "[*********************100%***********************]  1 of 1 completed\n"
     ]
    }
   ],
   "source": [
    "ticker = 'SPY'\n",
    "spy = yf.download(ticker, start = '2014-01-01' , end ='2019-12-31')\n",
    "spy = pd.DataFrame(spy)\n",
    "spy['Return'] = spy['Adj Close'].pct_change()\n",
    "effr = ndl.get(\"FRED/DFF\", start_date = '2014-01-01' , end_date ='2019-12-31')\n",
    "spy['Excess Return'] = spy['Return'] - (effr['Value']/(100*252))\n",
    "spy['Daily interest rate'] = effr['Value']/(100*252)\n"
   ]
  },
  {
   "cell_type": "code",
   "execution_count": 4,
   "metadata": {},
   "outputs": [],
   "source": [
    "train_set_len = int(len(spy)*0.7)\n",
    "spy_train = spy[:train_set_len]\n",
    "spy_test = spy[train_set_len:]\n"
   ]
  },
  {
   "cell_type": "code",
   "execution_count": null,
   "metadata": {},
   "outputs": [],
   "source": [
    "def buy_n_hold(df, leverage, initial_cap):\n",
    "    df['Signal'] = leverage\n",
    "    df['Strategy Return'] = df['Signal'].shift(1) * df['Excess Return']\n",
    "    df['Cash'] = (1+df['Strategy Return']).cumprod() * initial_cap\n",
    "    df['PnL'] = df['Cash'].diff()\n",
    "    return df\n",
    "\n",
    "spy_train = buy_n_hold(spy_train, 5, 200000)\n",
    "spy_test = buy_n_hold(spy_test, 5, 200000)\n",
    "\n",
    "plt.figure(figsize=(16, 8)).patch.set_facecolor('w')\n",
    "plt.title('Position, upper and lower bounds - Trend Following Strategy')\n",
    "#plt.plot(spy_train['Cash']*5, label= 'Upper bound - train')\n",
    "plt.plot(spy_train['Cash']*spy_train['Signal'], label= 'Position - train')\n",
    "#plt.plot(spy_train['Cash']*-5, label= 'Lower bound - train')\n",
    "#plt.plot(spy_test['Cash']*5, label  = 'Upper bound - test')\n",
    "plt.plot(spy_test['Cash']*spy_test['Signal'], label= 'Position - test')\n",
    "#plt.plot(spy_test['Cash']*-5, label= 'Lower bound - test')\n",
    "plt.legend(loc='upper left')"
   ]
  },
  {
   "cell_type": "code",
   "execution_count": 6,
   "metadata": {},
   "outputs": [
    {
     "name": "stdout",
     "output_type": "stream",
     "text": [
      "0.9747479398514142\n",
      "0.6671233513679558\n",
      "1.216716555175384\n",
      "0.8281129593159392\n",
      "-0.6089276093113805\n",
      "-0.7062571460314742\n",
      "0.9961579203943872\n",
      "0.6839054906711859\n"
     ]
    }
   ],
   "source": [
    "# compute the Sharpe ratio\n",
    "\n",
    "def annualised_sharpe_ratio(df):\n",
    "    return (df['Strategy Return'].mean()*252)/(df['Strategy Return'].std()*np.sqrt(252))\n",
    "\n",
    "print(annualised_sharpe_ratio(spy_train))\n",
    "print(annualised_sharpe_ratio(spy_test))\n",
    "\n",
    "# compute the sortino ratio\n",
    "\n",
    "def annualised_sortino_ratio(df):\n",
    "    return (df['Strategy Return'].mean()*252)/(df['Strategy Return'][df['Strategy Return']<0].std()*np.sqrt(252))\n",
    "\n",
    "print(annualised_sortino_ratio(spy_train))\n",
    "print(annualised_sortino_ratio(spy_test))\n",
    "\n",
    "# compute the max drawdown\n",
    "\n",
    "def max_drawdown(df):\n",
    "    comp_ret = (df['Strategy Return']+1).cumprod()\n",
    "    peak = comp_ret.expanding(min_periods=1).max()\n",
    "    dd = (comp_ret/peak)-1\n",
    "    return dd.min()\n",
    "\n",
    "print(max_drawdown(spy_train))\n",
    "print(max_drawdown(spy_test))\n",
    "# compute the calmar ratio\n",
    "\n",
    "def calmar_ratio(df):\n",
    "    return (df['Strategy Return'].mean()*252)/abs(max_drawdown(df))\n",
    "\n",
    "print(calmar_ratio(spy_train))\n",
    "print(calmar_ratio(spy_test))"
   ]
  },
  {
   "cell_type": "code",
   "execution_count": 7,
   "metadata": {},
   "outputs": [
    {
     "name": "stdout",
     "output_type": "stream",
     "text": [
      "0.0019167188095106616 0.045609208187419294\n"
     ]
    }
   ],
   "source": [
    "print(spy_test['Strategy Return'].mean(), spy_test['Strategy Return'].std())"
   ]
  },
  {
   "cell_type": "code",
   "execution_count": null,
   "metadata": {},
   "outputs": [],
   "source": []
  }
 ],
 "metadata": {
  "kernelspec": {
   "display_name": "venv",
   "language": "python",
   "name": "python3"
  },
  "language_info": {
   "codemirror_mode": {
    "name": "ipython",
    "version": 3
   },
   "file_extension": ".py",
   "mimetype": "text/x-python",
   "name": "python",
   "nbconvert_exporter": "python",
   "pygments_lexer": "ipython3",
   "version": "3.9.1"
  },
  "orig_nbformat": 4
 },
 "nbformat": 4,
 "nbformat_minor": 2
}
